{
 "cells": [
  {
   "cell_type": "markdown",
   "metadata": {},
   "source": [
    "# Equal-Weight S&P 500\n",
    "This project takes as input the value of a portfolio and outputs the number of shares of each S&P500 constituent that should be purchased to achieve an equal-weight version of the S&P500. "
   ]
  },
  {
   "cell_type": "markdown",
   "metadata": {},
   "source": [
    "### Imports"
   ]
  },
  {
   "cell_type": "code",
   "execution_count": 1,
   "metadata": {},
   "outputs": [],
   "source": [
    "import pandas as pd\n",
    "import requests\n",
    "import math\n",
    "import kagglehub as kh\n",
    "from my_secrets import POLYGON_API_TOKEN\n",
    "from datetime import datetime, timedelta\n",
    "from tqdm import tqdm"
   ]
  },
  {
   "cell_type": "code",
   "execution_count": 2,
   "metadata": {},
   "outputs": [],
   "source": [
    "def get_most_recent_trading_day(date):\n",
    "    while True:\n",
    "        # Check if it's a weekend (Saturday or Sunday)\n",
    "        if date.weekday() in [5, 6]:  # Saturday = 5, Sunday = 6\n",
    "            date -= timedelta(days=1)\n",
    "        else:\n",
    "            # Make a dummy API call to check if the date is a holiday\n",
    "            test_api_url = f\"https://api.polygon.io/v2/aggs/ticker/AAPL/range/1/day/{date.strftime('%Y-%m-%d')}/{date.strftime('%Y-%m-%d')}?apiKey={POLYGON_API_TOKEN}\"\n",
    "            response = requests.get(test_api_url).json()\n",
    "            if 'results' in response and len(response['results']) > 0:\n",
    "                break  # Valid trading day\n",
    "            else:\n",
    "                date -= timedelta(days=1)  # Move to the previous day if it's a holiday\n",
    "    return date"
   ]
  },
  {
   "cell_type": "code",
   "execution_count": 3,
   "metadata": {},
   "outputs": [
    {
     "data": {
      "text/plain": [
       "0       AAPL\n",
       "1       NVDA\n",
       "2       MSFT\n",
       "3       AMZN\n",
       "4      GOOGL\n",
       "       ...  \n",
       "497      CZR\n",
       "498      BWA\n",
       "499     QRVO\n",
       "500      FMC\n",
       "501     AMTM\n",
       "Name: Symbol, Length: 502, dtype: object"
      ]
     },
     "execution_count": 3,
     "metadata": {},
     "output_type": "execute_result"
    }
   ],
   "source": [
    "path = kh.dataset_download(\"andrewmvd/sp-500-stocks\")\n",
    "stocks = pd.read_csv(path + \"/sp500_companies.csv\")\n",
    "stocks = stocks['Symbol']\n",
    "stocks"
   ]
  },
  {
   "cell_type": "code",
   "execution_count": 4,
   "metadata": {},
   "outputs": [
    {
     "name": "stdout",
     "output_type": "stream",
     "text": [
      "Getting data for 2025-01-10\n"
     ]
    },
    {
     "name": "stderr",
     "output_type": "stream",
     "text": [
      "Processing Stocks: 100%|██████████| 502/502 [02:07<00:00,  3.93it/s]\n"
     ]
    }
   ],
   "source": [
    "# Define columns and initialize the DataFrame\n",
    "cols = ['Ticker', 'Stock Price', 'Market Capitalization', 'Number of Shares to Buy']\n",
    "final_dataframe = pd.DataFrame(columns=cols)\n",
    "stocks_subset = stocks\n",
    "data_rows = []\n",
    "\n",
    "# Get today's date and adjust for trading days\n",
    "today = datetime.today()\n",
    "trading_date = get_most_recent_trading_day(today)\n",
    "print(f\"Getting data for {trading_date.strftime('%Y-%m-%d')}\")\n",
    "for symbol in tqdm(stocks_subset, desc=\"Processing Stocks\"):\n",
    "    date = trading_date.strftime('%Y-%m-%d')\n",
    "    api_url = f\"https://api.polygon.io/v2/aggs/ticker/{symbol}/range/1/day/{date}/{date}?apiKey={POLYGON_API_TOKEN}\"\n",
    "    response = requests.get(api_url).json()\n",
    "    #print(response)\n",
    "    # Ensure the response has the expected structure\n",
    "    if 'results' in response and len(response['results']) > 0:\n",
    "        price = response['results'][0]['c']\n",
    "        market_cap = price * response['results'][0]['v']\n",
    "        data_rows.append(\n",
    "            {\n",
    "                'Ticker': symbol,\n",
    "                'Stock Price': price,\n",
    "                'Market Capitalization': market_cap,\n",
    "                'Number of Shares to Buy': 'N/A'\n",
    "            }\n",
    "        )\n",
    "\n",
    "# Create the DataFrame from the list of dictionaries\n",
    "final_dataframe = pd.DataFrame(data_rows, columns=cols)"
   ]
  },
  {
   "cell_type": "markdown",
   "metadata": {},
   "source": [
    "## Calculate the Number of Shares to Buy\n"
   ]
  },
  {
   "cell_type": "code",
   "execution_count": null,
   "metadata": {},
   "outputs": [],
   "source": [
    "\"\"\" portfolio_size = input(\"Enter the value of your portfolio: \")\n",
    "\n",
    "try:\n",
    "    val = float(portfolio_size)\n",
    "except ValueError:\n",
    "    print(\"That's not a number! \\nPlease try again:\")\n",
    "    portfolio_size = input(\"Enter the value of your portfolio: \")\n",
    "    val = float(portfolio_size) \"\"\"\n",
    "\n",
    "portfolio_size = 1000000\n",
    "\n",
    "positiion_size = float(portfolio_size) / len(final_dataframe.index)\n",
    "for i in range(len(final_dataframe.index)):\n",
    "    final_dataframe.loc[i, 'Number of Shares to Buy'] = math.floor(positiion_size / final_dataframe.loc[i, 'Stock Price'])\n",
    "\n",
    "final_dataframe.to_csv(f'recommended_positions_{trading_date}.csv', index=False)\n",
    "#final_dataframe.to_csv(f'final_dataframe_{trading_date}.csv', index=False)\n",
    "final_dataframe"
   ]
  },
  {
   "cell_type": "code",
   "execution_count": null,
   "metadata": {},
   "outputs": [],
   "source": []
  }
 ],
 "metadata": {
  "kernelspec": {
   "display_name": ".venv",
   "language": "python",
   "name": "python3"
  },
  "language_info": {
   "codemirror_mode": {
    "name": "ipython",
    "version": 3
   },
   "file_extension": ".py",
   "mimetype": "text/x-python",
   "name": "python",
   "nbconvert_exporter": "python",
   "pygments_lexer": "ipython3",
   "version": "3.12.7"
  }
 },
 "nbformat": 4,
 "nbformat_minor": 2
}
